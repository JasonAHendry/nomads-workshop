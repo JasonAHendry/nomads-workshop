{
 "cells": [
  {
   "cell_type": "markdown",
   "metadata": {},
   "source": [
    "# Analyse the quality scores of reads *after* they are mapped\n",
    "\n",
    "Information about mapped reads is stored within the **S**equence **A**lignment **M**ap file format (SAM). Following the header, each line of a SAM file contains information about a single alignment*. Each line has eleven standardised, tab-separated, fields. See [here](https://en.wikipedia.org/wiki/SAM_(file_format) for a description of each field.\n",
    "\n",
    "Here, we want to explore how read quality varies *along* a region of the reference genome.\n",
    "\n",
    "\n",
    "*Note that since in some cases a single read can align multiple times, alignments are different than the number of reads"
   ]
  },
  {
   "cell_type": "code",
   "execution_count": 1,
   "metadata": {},
   "outputs": [],
   "source": [
    "import os\n",
    "import sys\n",
    "\n",
    "import re\n",
    "\n",
    "import pandas as pd\n",
    "import numpy as np\n",
    "\n",
    "import matplotlib.pyplot as plt\n",
    "import seaborn as sns\n",
    "\n",
    "%matplotlib inline\n",
    "plt.rcParams[\"figure.dpi\"] = 150"
   ]
  },
  {
   "cell_type": "markdown",
   "metadata": {},
   "source": [
    "## Extract alignments within region of interest\n",
    "\n",
    "We are working with *P.f.* amplicon data in this example. We will focus on the analysis on a single amplicon, *Kelch13*. In order to do this, we will extract only those alignments that fall within the *Kelch13* exon. This can be achieved using `samtools view`:"
   ]
  },
  {
   "cell_type": "code",
   "execution_count": 2,
   "metadata": {},
   "outputs": [],
   "source": [
    "data_dir = \"../data\"\n",
    "bam_fn = \"BC01.sorted.bam\"  # BAM file containing the alignments of interest\n",
    "target_bed = \"../resources/KELCH13.exons.bed\"  # a BED file delineating region of interest\n",
    "output_sam_fn = \"BC01.K13.sam\""
   ]
  },
  {
   "cell_type": "code",
   "execution_count": 3,
   "metadata": {},
   "outputs": [],
   "source": [
    "cmd = \"samtools view %s -L %s -o %s\" % (\n",
    "    os.path.join(data_dir, bam_fn),\n",
    "    target_bed,\n",
    "    os.path.join(data_dir, output_sam_fn))"
   ]
  },
  {
   "cell_type": "code",
   "execution_count": 4,
   "metadata": {},
   "outputs": [
    {
     "name": "stdout",
     "output_type": "stream",
     "text": [
      "Command: samtools view ../data/BC01.sorted.bam -L ../resources/KELCH13.exons.bed -o ../data/BC01.K13.sam\n"
     ]
    }
   ],
   "source": [
    "print(\"Command: %s\" % cmd)"
   ]
  },
  {
   "cell_type": "markdown",
   "metadata": {},
   "source": [
    "Above shows the samtools command we want to run. We can run this from python using an `os.system()` call:"
   ]
  },
  {
   "cell_type": "code",
   "execution_count": 5,
   "metadata": {},
   "outputs": [
    {
     "data": {
      "text/plain": [
       "['BC01.sorted.bam',\n",
       " 'BC01.K13.sam',\n",
       " 'BC01.sorted.bam.bai',\n",
       " 'combined.fastq',\n",
       " 'FAK66173_9ce70c181767ada48688b5f4e975ccd1e61760e7_1.fastq',\n",
       " 'FAK66173_9ce70c181767ada48688b5f4e975ccd1e61760e7_0.fastq',\n",
       " 'FAK66173_9ce70c181767ada48688b5f4e975ccd1e61760e7_2.fastq']"
      ]
     },
     "execution_count": 5,
     "metadata": {},
     "output_type": "execute_result"
    }
   ],
   "source": [
    "os.listdir(data_dir) # before command"
   ]
  },
  {
   "cell_type": "code",
   "execution_count": 6,
   "metadata": {},
   "outputs": [
    {
     "data": {
      "text/plain": [
       "0"
      ]
     },
     "execution_count": 6,
     "metadata": {},
     "output_type": "execute_result"
    }
   ],
   "source": [
    "os.system(cmd)"
   ]
  },
  {
   "cell_type": "code",
   "execution_count": 7,
   "metadata": {},
   "outputs": [
    {
     "data": {
      "text/plain": [
       "['BC01.sorted.bam',\n",
       " 'BC01.K13.sam',\n",
       " 'BC01.sorted.bam.bai',\n",
       " 'combined.fastq',\n",
       " 'FAK66173_9ce70c181767ada48688b5f4e975ccd1e61760e7_1.fastq',\n",
       " 'FAK66173_9ce70c181767ada48688b5f4e975ccd1e61760e7_0.fastq',\n",
       " 'FAK66173_9ce70c181767ada48688b5f4e975ccd1e61760e7_2.fastq']"
      ]
     },
     "execution_count": 7,
     "metadata": {},
     "output_type": "execute_result"
    }
   ],
   "source": [
    "os.listdir(data_dir)"
   ]
  },
  {
   "cell_type": "markdown",
   "metadata": {},
   "source": [
    "We have generated the desired SAM file."
   ]
  },
  {
   "cell_type": "markdown",
   "metadata": {},
   "source": [
    "## Load SAM file"
   ]
  },
  {
   "cell_type": "code",
   "execution_count": 8,
   "metadata": {},
   "outputs": [],
   "source": [
    "sam = open(os.path.join(data_dir, output_sam_fn), \"r\")"
   ]
  },
  {
   "cell_type": "code",
   "execution_count": 9,
   "metadata": {},
   "outputs": [
    {
     "data": {
      "text/plain": [
       "'0b2e2cea-d34e-4a6f-9abe-ce933e82a442\\t0\\tPf3D7_13_v3\\t1724565\\t60\\t33S37M2D10M1D67M1I28M1D71M1D19M2D11M1D24M1D16M2I12M1I62M2D45M2D7M2D12M2D48M1I73M1D30M2D10M3D43M1I23M1I13M2I29M1I29M1I2M3D16M1D5M2D4M1I8M1D3M1D9M6D6M1I21M3I31M7D3M1I37M1D2M1D10M1D21M5D10M2D12M3D2M1D14M1D8M1D54M1D32M2I24M1I16M1D81M1I15M1I40M2D7M2D39M1D26M1D40M1I27M5D14M2D22M1D5M1D23M1D18M1I23M1I9M1D11M2D9M3D148M2D20M2D4M1D7M1D21M1D14M1I60M1I8M1D14M1I19M1D15M1D9M5D1M1D11M3I132M2D37M2D15M3D17M1I12M1I8M1D11M1I8M1I53M1I15M1I15M1I15M1D9M4D73M1D21M1D33M1D32M1I68M24D50M1D19M2D38M6S\\t*\\t0\\t0\\tAGGTTAACACCAAATCTTTTCTTCAGCAGCACCTATAAAGGAAAATCATAAACAATCAAGTAATGTGTATAAAGGTATTTAAAAATAAATTATATATTTATTAATATGTATGTATAATCTTACATATATATATATATATATATATGTATATATATATTTTTTTTTTTTTTTTTATAAAAATGTGCATGAAAATAAATAGTAAAGAAGAAAAATAATATTTTGTGATATATTTGTTATATAAAATTATATATAAAAATAAGAACATTAAATTTCTTCATTTATATATTTGCTATTAAAACAGGTGACCAAATCTGGGAACACTAATAAAGATGGGGCCAAGCTGCCATTCATTTGTATCTGGTGAAAAGAAATGACATGAATTTAGAACTTCGCCTTTCTCCTCCTGTAATTATATAAGAATCTGACAATGTGGCAGCTCAAATTCATTTTTCTCTGGTACCATTTAGAAATTGCCATCTTTTATTAAATAGTTGATATTGTTCAACTTGAATCTAATATGTTATGTTCATTATCAATACCTCCAACAACATATATTTGATTAAGGTAATTAAAAGCTGCTCTGAACTTCTAGCTTCTAATAAGGCATATGAAGTGTTCCCTATTCATTTTTTCTTCATATACTTCAATAGAATTTAATCTCTCTACCATTAGTTCCACCAATGACATAAAATTTTATTATCCAAAAAGCAACACACATAGCTGATGATCTAGAGGGTATTCAAAAGTGCCACCTCTGCCCGTAACCATACGATGATCTTATCTTCTATTCAGTTATAATGAAAACCATCTTCAATACTAATAAATTCTACCATTTGACGTATTAACACCACAATTATTTCTTCTAGGTATATTCTTGGAAACATACCATACATCTCTTAAACGATCATACACCTAGTTCAAATAAACCTTATAATCATAGTTATTACAAAACGTATAAAAGTATTCAATGCTTTTCAAAATAAGCTTTTTGGTGAACTAGGTGTACACATACGCCAGCATTGTTGACTAATATCTAATAATTCCATCAATTTAAATATTCTACACCATCAAATCCACCTTCATACAAAATACTAATGGGAATGGTAAAAAATTTAATACCATAAATTCTGCTTCTTTCAACAAGGCTTCACTTTCACTTAAATCTTTTGGTATGGGTATAGTTAACCAGTTTCTTAAGAAGTTAAAGTATAATTCTAAACTAACTCACTATCCCTATCTAAGAATATTCTTCCTTGTTTATCTGGTTATGATGTCTTCCACTTAATAATTTCTCTATAAATGAATCTTTTGTTGTGTTAAGGTATGTCTAGACTTTCAAAAATGGCTCCACCAACATTAATATCAATCATAGTTTTCAGTAGCAATATTTGCATCAACAATTTTTATCATTCTCAATTTTTATGTTCTTGATAATATTTTCTTTTCTAAATATAATACTAATTTATTTTATCGATTTCTTGTAAAAAATCTTAATCTTTCTTCATCAAAATCGTTTCTATGTTCTTCTTTCTTTTTGTTGTTTATAGCCATTAGATATATCAATATCTAATTTCTTTCTTTCATCATGTAATTTCTGTTCTTCAATATTTTTACGGTTTTCTAATTCTTTGTACAATCGTACTCTTTCCATTTCTAGTTCTTTCTTATCTTTAAATAATTTATCTTTCTCGAATAAAATTCATTTGTCTTTTTAACAATTAATAAATGTAATTCTTAATCACCTACCATATTTTTCAAAATCTCTAGCATCACTTAATTCCGTTTCAATAATTTTCTTTTCATAAGTATCATTTTACATTGTTACAGTTGAAAATTTTTTTTAAATTGTTTAATCAGAATCATCATTTAAAGATTTGCCAAAAAATTCTCTCTTTTTTTGTTGGTATTCATAATTGATGGAGAATTCATATTATTATTAATAAGATTATTAGTTATATTATTTGCTGTCAGATTATTATTATTATTATTATGATTAATATTATTATTTTCATTTGTAATAGTATCTTTTTTTATTTAACAATTTATTTAAATATTTATTTCCTATTATCTTTAGACATATTAAATGTTCTTGATAAAATTACTTGGTAAAAAAATCTTTTTACTATCAAAAGTTCGAAATCTAATACACTCATATCAATGGATTCTAATAGGCTATCTTTAACATTTCCACCAACTACTATTATTTAAAAAGGAAACTATTATTTTTCCGTTTTCTCATTTTATCACTAGATTCATAAATGAATTAGAATCATTCTCGCTACTACTTCCACTTTTATCATCACTATTGCTGTTACCACCAATTCCCTATCATACGTCATAGAAAATTCGAGATACTATTTGCTTTTGTTTTTACTTTTCTCCTTCCATAATTATAATTTAATTAACAAAAAACATAATAAATGAATGAATAAATAAATAAATAAATAAATATATATATATATATATATATATATATTTTTTTTCTTGGAGAAATTATAACACGAATATTTACGCCTTGTTATATTAAATTTCTTCACATATATCTATATTTTTAATCAACAGGAATCTTTTAATTTGTTGTAGGTGCT\\t,()-%%#\"$,\\'$%\\'(&/-.*\\',0,\\'%&$\\')07=988)4)(.)25;,/&(,3819<32$%$(%\\'&()&\\'\\')8>,.136=?>5?>==9:+5\\'6./0=<8?>4/<.6.552520.2231;(+\\'-,./88::1/--,/001220.,+\\'+(/-25788:;::>??>=>=?>>>>?<:/%&(1;>4559$988/.6=51=?>71176<-\\'-.)1:7<+/6=:.6??/5:001113;?314>444/794,-<.--*-2;966423803=9097,+-*<:02?<6;?=08::71>911;;:>7?<91)*%(*:7:8?53389<712.$$\\'..42=/*04(-\\'\\')\\',.&*,&.413>301>102<=;<783/1;;+#(**)+,1265616>/--,0,...#$$)0--<5311(*-*&(6*))*,)-%&&*$#,)00/20,-.)(+/0754)..*+05:=;18:3&&*\"$\\'(8>1.&/1-,1&3<:<=7>>2-=,2+))#+)0)../0<7:=672+(1-1=8815=9:8529111<?9648351/(((+1/5)=*/(\\'\\'*+67-9>,*21>2>.;4:<;>7>>.++,00/3/122\\'%$\\'&+,.02.*2,,<;5311/.3+,+\\'-%(6/,&\\'+/898</=>?:,=?;14/115:?1;0///414=6-=,46:72)\\'&%%%%&(<=41.+.,4-.,2/,32.(778/-/60-2%/4::0\\'.71.-..-1/2-/,*-,,,03+&&$)*&**/7/0;;(,\\'\\'&.%+3-55&+**%\\'&(&$\\'+.;:::783.*+\"*(170+,(+($#(%%%(,1.0755*.\\'%\\'%\\'$)$)%$#/2,4:*8?984;=;;>41230,+\\'+.:02-,-.4<5=35?>;;==91*+,.3+3*\\'&*((**\\'00.+1:17*,,,,,).(+(%&%&),%)&&\\'\\'%)%*17.2<+\\'/+%*)--..1;3+&&&(\\'/(,+*-1<><8143198(&#((+.&,//&\\'&((*()86.+5,$*.8=<3(20*+*,%%&,.$**)+),,7<::<77884:...+.862-)***/140+70741.)+.-47+6:8-00*\\'\\'&\\'&((+(11;7372&%%&&&\\'/01;>?=6762989\\';1+21;>98;<8943>>2=889>:6:;93757368,//76637/1\\'%%))-+)),53-.07=5+7--6??03:94:34-+,.022=39-3-,.=52/:/6%\\'()/46<4*+07<<;=96:=;2128466721220:)(*776;0-40-2:>==>>91912>>01222.-*)+,420101823.-.2.80452<835:;=>>?1/-.6776>=8)4*%+)+.-)1/256<;<7-+*\"&1()&+140)$/89842859:867;1:110.-&*,:9593?>-6.45134191.134+,-2,8,-;?6=>>3/01/2<99603*<>>1\\'+$*1+21/04673475<:88?>;879;<-*(.,,.778:614+)19)&+5027>:*4)&)54<==/0,..,6/00<9/6=5542.<>,2745=04-/06:?78=348:35??;,,72,.=>1/,%*0-966,+3469;=23335::8(<>()6=1,08+(*,-8874162?=:<3<21891/8//1::;1(,.0;??+22<3>?<3?<11097=9924),,-1=/0/*->84389=?67=62+>,,-;?>5>><;<7>1...498)*%+1;28>>51430;<-\\'-&*221\\'1)1\\'8*81/,/6))*49>=?<816:14259).012;91??>*+8=5,-.==788;994&(+,+6-<41+2;<5*1&(103>=-0>?>633,\\')+.5=6;;=,4467=%:=038:06,+3.9,<>>?=?02>;+<02:9/:*-&(*6/35==;;;5++*\\'*/=2.,(*378:61;210050=7=<>-77>,7.44<2-*.09/111231*3*4/2121/6.030.9-;,02/.=-.7432-<---84-:9(\\'),,::1,/.9+3.)1*))+)+4&,)*-9:5?0>0-1/.</.6<>?483?+-38;874877;<27>?=5/<>83=36=1><12-*,)2.42>>,3>,/,./,--./9?=<;<<=7/.1+0/.-5=8-:++,/><..5*++**,32<:><?9-3/=?>11566::/==508=6.+/1-3/-8.--\\'),1:;;>-8*+%2#6-5/9./08=9;79.072.92/6=64;7./,2-..<<;6>65?>/=9.)\\'%(-+*00,5.1>??.2931>?53<<44:;7.467::;-.04.99:;---5-5+)+*1.48:<532&.0++&&%--53(--;>:0;00.-(,.,,8+,-215)-+(4(0)(1+2)(.0940*0/150/*+-9>:1>1,--4;<;862>.*+1>=:/4;?;/,12?>;5=2.0;3936/)2-267><?<;09)5\\'%1=>><94577=78?>;87>=$%64,3;,/=<34=?<<=847>9/.-1.++,-/3878879322228;;:=<==?<7-.:-$+*&-/(.,-./)(()/2=;/>6.)-.74.9++300*-0-.3/;317>7155598175,*++1:;>,5>662+62(7+>228>><0;3?<)7-*)\\'\\'*,214\\tNM:i:221\\tms:i:4030\\tAS:i:4034\\tnn:i:0\\ttp:A:P\\tcm:i:209\\ts1:i:1579\\ts2:i:0\\tde:f:0.0525\\trl:i:127\\n'"
      ]
     },
     "execution_count": 9,
     "metadata": {},
     "output_type": "execute_result"
    }
   ],
   "source": [
    "sam.readline()"
   ]
  },
  {
   "cell_type": "code",
   "execution_count": 10,
   "metadata": {},
   "outputs": [
    {
     "data": {
      "text/plain": [
       "['00393af0-9176-4381-8ce6-0633dd2dc645',\n",
       " '0',\n",
       " 'Pf3D7_13_v3',\n",
       " '1724565',\n",
       " '60',\n",
       " '5M1D17M1D25M1D66M4D33M3D2M1D22M2D35M4D28M1D17M1D6M1D30M2D3M1D23M1I43M1D34M3D6M1D35M1D90M2D60M2D25M491S',\n",
       " '*',\n",
       " '0',\n",
       " '0',\n",
       " 'TATAAGGAAAATCATAAACAGTAAGTAATGTGTATAAAAAGGTATTTAAAAATAAATTATATATTTATTAATATGTATGTATAATCTTACATATATATATATATATATGTATATATATATTTTTTTTCTTTTTTTTTATAAAATATTGTAATAAATATTAAAGAAGAAAAAATATTTTGTGATATATTTGTTATATAAGAATATAAAAAATAAGAACATTTAAAATTTCTTCATTTATATATTTGCTATTAAACAGGTGACCAAATCTGGGAACTAATAAAGATGGTAACTGCCATTCATTTGTATCTGGTGAAAAAGAAGTGACGCCAATTTAGAACTTCGCCATTTTCTCATACATAATTATATAAAAATCTGACAATGTAGCAACTCAATTCATCTTTTCTCTGGTACACCATTTAGAAATTGCCATCTTTATTAAATGGTTGATATTGTTCAACGGAATCTAATATGTTATGTTCATTATCAATACCTCCAACAACATATATTTGATTAAGGTAATTAAGCTGCTCCTGAACTTCTAGCTTCTAATAAGGCATATGGAAATTGTTCCCATTTATTCATTTTCTTCATATACTTCAATAGAATATGAAGAAAAAATGGCTCAGGCTAATGCAAAATATATCAAATACTATATTGACAGAAAACAATGATAACTTTACTCTTTATAATAGGCTTCGAACCAGGCTAATCAACCATTTGGCGATGGCTGTTTAAATGACAGCCTGCAGAAAAAGGTGAATTTTGAGCCACGATGAACATAGGAGGAAAATGGCTAAATTCTTTCGCAGATATGAATGGCGGCTTTATTATTGATTCCGGGTGTCACTCCGACAACAATATATAAAATGAAGCCAAATGTTCTTATTTTTATATTATAATTTTGCTGTAACAAATAATATCACAAACTGGCGCAACTTTAATATTGACACTGGCACGACTGAAAAAAATATATGCTATACGCTAACAATGTGAATTATACATACATGATAATATGAACATTTTTAAGCTGCTATCGCCGCGAACATTTATGTTTTTCCTGGTAGGCGTGTCTTTATTGTTAACAACAACAACTCGCG',\n",
       " '1-/&,)1+3591+(),96*+$,/1+./:2\\'0)+)(179.%-),(.9-/7<::+/.3*5/1,+%+90(.-,.-./9:98-21.3./0;=666759544546675534(,+.3788998998427??/,105667<<;//04?>950.1$(&\\'\\'.,/-*002:*&,.%\\'**11,)+,:65/2)+.,..1<6-10-/;736*-201294???;,41+0;:08=-,;.3)94559/3\\'24&+34.74-+13765+018\\'0&)*3444=420+*.2+1.01</0+)%-+(%#%&&+35<66?>:<?=588<=>=>426>=5(&*-%(\\',+&%%--/</..07\\'&6\\'(\\'(),9>=/43$%$&&,($-&\\'&\\'$+.262155,+%*21*($\\'(.7233-.&4\\')+,,4;:3;8<07-./6698;>=0/0:\\'4%&:=:</;?7-7>;?>0.15+((-.4;1298-:0.95>;;25(,,304>43.471.9000>69735317*:+.*/,./=>37=3/0/7+$&\\'(*,-055\\'/1+050+((.+)-1123.57<659;89=:=;==:<;2.43*7.8=2><+.=0.4><6:???,=?=9.++%(1542:2339=962**1%(/3881.%\"\"\"\"$%+,,,#%\"\"&-&&\\'%&\\',-*9+\\'\\'$&(*\\'.5243+(1**\\'*))\\'&&&\\'&%$%%#%&#%()&(%&$&\\'/)*%%#$$,**%%$%%%+*%#&\\'\\'(0,&%\"#\"&#\"#%$\\'++-53,*()(,(%$\\'\\'\\'#,-30*&\\'&&$$%%%#\\'&(*\\'\"##$(\\'$#$\"\"\"-,+*&*++&\"#\"\"####$\"##$\\'\\'(.$\\'&##%&\\'\\'%(#%#)\"\"%%\"$#\"%.*\\'-10%%(#$%%&$(-(*%\"%(2.12,+*$%)/51\\'&&%\"##&)*()+6&+\\'$\\'&&&(&\\'\\'-1*/$(.+-)#&)$.*/+-+*&)&&*(\\'$&\\')&\"\"\"\"$\"#$$##$$%&()-3.//+($#%(&)(()\"#.,,:820,(+\\')$$%\\')%&\"\"#\"\"#&%%$)%%&-/+*)-012//#\"#\"#$&(,$($\"\"&&&&#%###$\"$\"\"#&#&\\'#$$$#$$+5.*+)/6.1%$#\"\"#\"\"$\"$%*)1119+(.)\\'($&$%)*(/***))\\'&$$\"',\n",
       " 'NM:i:57',\n",
       " 'ms:i:924',\n",
       " 'AS:i:924',\n",
       " 'nn:i:0',\n",
       " 'tp:A:P',\n",
       " 'cm:i:52',\n",
       " 's1:i:398',\n",
       " 's2:i:0',\n",
       " 'de:f:0.0688',\n",
       " 'rl:i:39\\n']"
      ]
     },
     "execution_count": 10,
     "metadata": {},
     "output_type": "execute_result"
    }
   ],
   "source": [
    "# the SAM file is tab delineated, we can parse out fields with a split on tab\n",
    "sam.readline().split(\"\\t\")"
   ]
  },
  {
   "cell_type": "markdown",
   "metadata": {},
   "source": [
    "## Parsing the CIGAR string\n",
    "\n",
    "Our goal is to assign each quality score to a position in the genome. If the read was mapped in one continguous region, this would be easy: we could simply align the quality scores with the start position of the read mapping. However, typically there will be many deletions and insertions in the mapping. This is especially true for nanopore data. \n",
    "\n",
    "Information about the mapping, including information about insertions or deletions, is stored within the CIGAR string. Briefly, the CIGAR string indicates with a character whether there has been a match \"M\", an insertion \"I\", or a deletion \"D\"; as well as indicating whether the read has been 'clipped' (\"S\" or \"H\"). Clipping can occur if, for example, you have limited the the SAM file to reads only present in a particular region. After the character, an integer is given which indicating the length of match, insertion, or deletion. Some examples\n",
    "\n",
    "- 28M would indicate that there is a match of 28 bases\n",
    "    - The read and the reference sequence are the same length for this region\n",
    "- 10D would indicate that there is a *deletion* in the read of 10 bases\n",
    "    - So the read is *shorter* than the reference genome in this region\n",
    "- 2I would indicate that there is an *insertion* in the read of 2 bases\n",
    "    - So the read is *longer* than the reference genome in this region\n",
    "\n",
    "\n",
    "For complete details see [here](https://samtools.github.io/hts-specs/SAMv1.pdf)."
   ]
  },
  {
   "cell_type": "code",
   "execution_count": 11,
   "metadata": {},
   "outputs": [],
   "source": [
    "alignment = sam.readline().split(\"\\t\")\n",
    "start = int(alignment[3])\n",
    "cigar = alignment[5]\n",
    "quals = alignment[10]"
   ]
  },
  {
   "cell_type": "code",
   "execution_count": 12,
   "metadata": {},
   "outputs": [
    {
     "data": {
      "text/plain": [
       "1724565"
      ]
     },
     "execution_count": 12,
     "metadata": {},
     "output_type": "execute_result"
    }
   ],
   "source": [
    "start"
   ]
  },
  {
   "cell_type": "code",
   "execution_count": 13,
   "metadata": {},
   "outputs": [
    {
     "data": {
      "text/plain": [
       "'35S5M1D7M1D35M2D5M1D59M9D45M1I4M1I33M1I31M1D49M1D18M1D14M1I13M1I20M1I8M2I1M1D11M1D12M1D23M2D7M2D18M1D4M1D10M1I60M1I2M1D24M5D3M1D36M2D7M3D72M1I9M1I100M1I16M1I103M1D5M2I34M1D3M1D11M1D40M1D4M3I6M1I4M4D39M1D34M2D11M1D8M1D15M1D34M2D37M2D32M2D8M1D42M2D46M1I73M2D21M1D25M2D4M1D14M1D4M1D60M1I28M1D56M1I9M1D40M1I55M1D35M1I4M1D17M2I8M2D55M1I11M3D10M1D11M1D6M1D13M1D10M1I28M1D46M1D2M1I28M7D19M1D81M1I3M2D9M1D18M1D10M1D3M1D28M3D33M1D18M1D8M1I13M2I58M1D10M1D7M1D9M1I34M1D6M1D77M1D15M23D17M6D6M1D21M1D25M1I31M'"
      ]
     },
     "execution_count": 13,
     "metadata": {},
     "output_type": "execute_result"
    }
   ],
   "source": [
    "cigar"
   ]
  },
  {
   "cell_type": "markdown",
   "metadata": {},
   "source": [
    "Now what we need to do is produce a vector of positions for each quality score, using the start position and cigar string. The basic approach is:\n",
    "\n",
    "- If there is a match, the positions increment one base at a time\n",
    "- If there is a insertion in the read, those positions in the read are *not* in the reference genome\n",
    "    - Give them an invalid value (-999)\n",
    "- If there is a deletion in the read, we pass\n",
    "    - We are effectively skipping positions\n",
    "- If there is a soft-clip, those positions in the read are *not* in the target region\n",
    "    - Give them an invalid value (-998)\n",
    "- If there is a hard-clip, we pass\n",
    "\n",
    "An important detail to note here is that all the alignments within the SAM file are represented with respect to the *forward* strand. Those reads that mapped to the reverse strand are reverse-complimented before being stored in the SAM file."
   ]
  },
  {
   "cell_type": "code",
   "execution_count": 14,
   "metadata": {},
   "outputs": [],
   "source": [
    "pos = []\n",
    "i = start\n",
    "tags = re.findall(\"\\d*[MIDSH]\", cigar)  # parse the cigar string into 'tags'\n",
    "for tag in tags:\n",
    "    n = int(tag[:-1]) # this is the integer value of the tag\n",
    "    m = tag[-1] # this is the 'm'ethod: M, D, I, S, H ...\n",
    "    if m == 'M':  # match\n",
    "        pos.extend(np.arange(i, i + n))\n",
    "    elif m == \"I\":  # insertion\n",
    "        pos.extend(np.repeat(-999, n))\n",
    "    elif m == \"D\":  # deletion\n",
    "        pass\n",
    "    elif m == \"S\":  # clip\n",
    "        pos.extend(np.repeat(-998, n))\n",
    "    elif m == \"H\":\n",
    "        pass\n",
    "    else:\n",
    "        Print(\"Tag %s not identified.\" % m)\n",
    "    i += n  # we have moved forward n positions\n",
    "pos = np.array(pos) # convert to an array at the end"
   ]
  },
  {
   "cell_type": "code",
   "execution_count": 15,
   "metadata": {},
   "outputs": [
    {
     "name": "stdout",
     "output_type": "stream",
     "text": [
      "Length of positions: 2580\n",
      "Length of quality scores: 2580\n"
     ]
    }
   ],
   "source": [
    "print(\"Length of positions: %d\" % len(pos))\n",
    "print(\"Length of quality scores: %d\" % len(quals))"
   ]
  },
  {
   "cell_type": "markdown",
   "metadata": {},
   "source": [
    "Good. Now let's convert the quality scores to error probabilities..."
   ]
  },
  {
   "cell_type": "code",
   "execution_count": 16,
   "metadata": {},
   "outputs": [],
   "source": [
    "qs = np.array([ord(c) - 33 for c in quals])\n",
    "error_probs = 10 ** (qs / -10)"
   ]
  },
  {
   "cell_type": "code",
   "execution_count": 17,
   "metadata": {},
   "outputs": [
    {
     "data": {
      "text/plain": [
       "array([0.06309573, 0.12589254, 0.03162278, ..., 0.1       , 0.02511886,\n",
       "       0.00398107])"
      ]
     },
     "execution_count": 17,
     "metadata": {},
     "output_type": "execute_result"
    }
   ],
   "source": [
    "error_probs"
   ]
  },
  {
   "cell_type": "markdown",
   "metadata": {},
   "source": [
    "Let's plot the results for this read..."
   ]
  },
  {
   "cell_type": "code",
   "execution_count": 18,
   "metadata": {},
   "outputs": [
    {
     "data": {
      "text/plain": [
       "Text(0,1,'Single-read error probabilities mapped to $K13$')"
      ]
     },
     "execution_count": 18,
     "metadata": {},
     "output_type": "execute_result"
    },
    {
     "data": {
      "image/png": "[encoded data removed]",
      "text/plain": [
       "<Figure size 576x288 with 1 Axes>"
      ]
     },
     "metadata": {},
     "output_type": "display_data"
    }
   ],
   "source": [
    "fig, ax = plt.subplots(1, 1, figsize=(8, 4))\n",
    "\n",
    "ax.plot(pos[pos > 0], error_probs[pos > 0])\n",
    "ax.set_xlabel(\"Genomic Position\")\n",
    "ax.set_ylabel(\"Error Probability\")\n",
    "ax.set_title(\"Single-read error probabilities mapped to $K13$\", loc='left')"
   ]
  },
  {
   "cell_type": "markdown",
   "metadata": {},
   "source": [
    "## Generalising\n",
    "\n",
    "Now all we need to do is expand this to handle the complete SAM file. For this we will build some functions."
   ]
  },
  {
   "cell_type": "code",
   "execution_count": 19,
   "metadata": {},
   "outputs": [],
   "source": [
    "def positional_error_from_sam(sam_path):\n",
    "    \"\"\"\n",
    "    Extract error probabilities and their positions\n",
    "    from a SAM file\n",
    "    \n",
    "    params\n",
    "        sam_path : str\n",
    "            Path to SAM file.\n",
    "            \n",
    "    returns\n",
    "        positions : list of ndarray, int, shape(n_reads, )\n",
    "            List of numpy arrays. Each array\n",
    "            encodes positions of aligned bases\n",
    "            for a read. Note that -998 indicates clipped,\n",
    "            -999 indicates deletion.\n",
    "        error_probs : list of ndarray, float, shape(n_reads, )\n",
    "            List of numpy arrays. Each array\n",
    "            encodes error probabilities aligned bases\n",
    "            for a read.\n",
    "    \n",
    "    \"\"\"\n",
    "    # Open SAM\n",
    "    with open(sam_path, \"r\") as sam:\n",
    "\n",
    "        # Prepare storage\n",
    "        positions = []\n",
    "        error_probs = []\n",
    "\n",
    "        for alignment in sam:\n",
    "            # Parse alignment & get relevant fields\n",
    "            fields = alignment.split(\"\\t\")\n",
    "            start = int(fields[3])\n",
    "            cigar = fields[5]\n",
    "            quals = fields[10]\n",
    "\n",
    "            # Compute\n",
    "            alignment_error_probs = calc_error_probabilities(quals)\n",
    "            alignment_positions = get_positions_from_cigar(start, cigar)\n",
    "\n",
    "            # Store\n",
    "            positions.append(alignment_positions)\n",
    "            error_probs.append(alignment_error_probs)\n",
    "            \n",
    "    return positions, error_probs"
   ]
  },
  {
   "cell_type": "code",
   "execution_count": 20,
   "metadata": {},
   "outputs": [],
   "source": [
    "def calc_error_probabilities(quals):\n",
    "    \"\"\"\n",
    "    Calculate error probabilities from\n",
    "    a string of ASCII characters `quals` that\n",
    "    encode error probabilities\n",
    "    \n",
    "    params\n",
    "        quals : str\n",
    "            Error probabilities encoded in ASCII.\n",
    "    \n",
    "    returns\n",
    "        error_probs : ndarray, float, shape(read_length, )\n",
    "            Error probabilities in a\n",
    "            numpy array.\n",
    "    \n",
    "    \"\"\"\n",
    "    qs = np.array([ord(c) for c in quals]) - 33\n",
    "    error_probs = 10 ** (qs / -10)\n",
    "    return error_probs"
   ]
  },
  {
   "cell_type": "code",
   "execution_count": 21,
   "metadata": {},
   "outputs": [],
   "source": [
    "def get_positions_from_cigar(start, cigar):\n",
    "    \"\"\"\n",
    "    Get alignment positions for each base in a read\n",
    "    given a `start` position and a `cigar` string\n",
    "    \n",
    "    params\n",
    "        start : int\n",
    "            The start position of the aligment.\n",
    "        cigar : str\n",
    "            The CIGAR string for the alignment.\n",
    "    \n",
    "    returns\n",
    "        pos : ndarray, int, shape (read_length,)\n",
    "            A genomic position for each base in the\n",
    "            read.\n",
    "    \n",
    "    \"\"\"\n",
    "    pos = []\n",
    "    i = start\n",
    "    tags = re.findall(\"\\d*[MIDSH]\", cigar)  # parse the cigar string into 'tags'\n",
    "    \n",
    "    for tag in tags:\n",
    "        n = int(tag[:-1]) # this is the integer value of the tag\n",
    "        m = tag[-1] # this is the 'm'ethod: M, D, I, S, H ...\n",
    "        if m == 'M':  # match\n",
    "            pos.extend(np.arange(i, i + n))\n",
    "        elif m == \"I\":  # insertion\n",
    "            pos.extend(np.repeat(-999, n))\n",
    "        elif m == \"D\":  # deletion\n",
    "            pass\n",
    "        elif m == \"S\":  # clip\n",
    "            pos.extend(np.repeat(-998, n))\n",
    "        elif m == \"H\":\n",
    "            pass\n",
    "        else:\n",
    "            Print(\"Tag %s not identified.\" % m)\n",
    "        i += n  # we have moved forward n positions\n",
    "    \n",
    "    return np.array(pos)"
   ]
  },
  {
   "cell_type": "code",
   "execution_count": 22,
   "metadata": {},
   "outputs": [],
   "source": [
    "sam_path = os.path.join(data_dir, output_sam_fn)\n",
    "positions, error_probs = positional_error_from_sam(sam_path)"
   ]
  },
  {
   "cell_type": "code",
   "execution_count": 23,
   "metadata": {},
   "outputs": [
    {
     "data": {
      "text/plain": [
       "348"
      ]
     },
     "execution_count": 23,
     "metadata": {},
     "output_type": "execute_result"
    }
   ],
   "source": [
    "# The number of reads...\n",
    "len(positions)"
   ]
  },
  {
   "cell_type": "code",
   "execution_count": 24,
   "metadata": {},
   "outputs": [
    {
     "data": {
      "text/plain": [
       "348"
      ]
     },
     "execution_count": 24,
     "metadata": {},
     "output_type": "execute_result"
    }
   ],
   "source": [
    "len(error_probs)"
   ]
  },
  {
   "cell_type": "markdown",
   "metadata": {},
   "source": [
    "## Munge and visualise results"
   ]
  },
  {
   "cell_type": "code",
   "execution_count": 25,
   "metadata": {},
   "outputs": [],
   "source": [
    "positions = np.concatenate(positions)\n",
    "error_probs = np.concatenate(error_probs)"
   ]
  },
  {
   "cell_type": "code",
   "execution_count": 26,
   "metadata": {},
   "outputs": [],
   "source": [
    "keep = positions > 0\n",
    "positions = positions[keep]\n",
    "error_probs = error_probs[keep]"
   ]
  },
  {
   "cell_type": "code",
   "execution_count": 27,
   "metadata": {},
   "outputs": [
    {
     "data": {
      "text/plain": [
       "776572"
      ]
     },
     "execution_count": 27,
     "metadata": {},
     "output_type": "execute_result"
    }
   ],
   "source": [
    "len(positions)\n",
    "# 776 thousand bases have a quality score"
   ]
  },
  {
   "cell_type": "code",
   "execution_count": 28,
   "metadata": {},
   "outputs": [],
   "source": [
    "df = (pd.DataFrame({\"position\": positions, \"error_prob\": error_probs})\n",
    "      .groupby(\"position\")\n",
    "      .mean()\n",
    "      .reset_index()\n",
    "      .sort_values(\"position\")\n",
    "     )"
   ]
  },
  {
   "cell_type": "code",
   "execution_count": 29,
   "metadata": {},
   "outputs": [
    {
     "data": {
      "text/html": [
       "<div>\n",
       "<style scoped>\n",
       "    .dataframe tbody tr th:only-of-type {\n",
       "        vertical-align: middle;\n",
       "    }\n",
       "\n",
       "    .dataframe tbody tr th {\n",
       "        vertical-align: top;\n",
       "    }\n",
       "\n",
       "    .dataframe thead th {\n",
       "        text-align: right;\n",
       "    }\n",
       "</style>\n",
       "<table border=\"1\" class=\"dataframe\">\n",
       "  <thead>\n",
       "    <tr style=\"text-align: right;\">\n",
       "      <th></th>\n",
       "      <th>position</th>\n",
       "      <th>error_prob</th>\n",
       "    </tr>\n",
       "  </thead>\n",
       "  <tbody>\n",
       "    <tr>\n",
       "      <th>0</th>\n",
       "      <td>1724565</td>\n",
       "      <td>0.025119</td>\n",
       "    </tr>\n",
       "    <tr>\n",
       "      <th>1</th>\n",
       "      <td>1724566</td>\n",
       "      <td>0.103764</td>\n",
       "    </tr>\n",
       "    <tr>\n",
       "      <th>2</th>\n",
       "      <td>1724567</td>\n",
       "      <td>0.071243</td>\n",
       "    </tr>\n",
       "    <tr>\n",
       "      <th>3</th>\n",
       "      <td>1724568</td>\n",
       "      <td>0.059930</td>\n",
       "    </tr>\n",
       "    <tr>\n",
       "      <th>4</th>\n",
       "      <td>1724569</td>\n",
       "      <td>0.065843</td>\n",
       "    </tr>\n",
       "  </tbody>\n",
       "</table>\n",
       "</div>"
      ],
      "text/plain": [
       "   position  error_prob\n",
       "0   1724565    0.025119\n",
       "1   1724566    0.103764\n",
       "2   1724567    0.071243\n",
       "3   1724568    0.059930\n",
       "4   1724569    0.065843"
      ]
     },
     "execution_count": 29,
     "metadata": {},
     "output_type": "execute_result"
    }
   ],
   "source": [
    "df.head() # mean error probabilities at each position"
   ]
  },
  {
   "cell_type": "code",
   "execution_count": 30,
   "metadata": {},
   "outputs": [
    {
     "data": {
      "text/plain": [
       "Text(0,1,'Mean Error Probability Across $Kelch13$')"
      ]
     },
     "execution_count": 30,
     "metadata": {},
     "output_type": "execute_result"
    },
    {
     "data": {
      "image/png": "[encoded data removed]",
      "text/plain": [
       "<Figure size 576x288 with 1 Axes>"
      ]
     },
     "metadata": {},
     "output_type": "display_data"
    }
   ],
   "source": [
    "fig, ax = plt.subplots(1, 1, figsize=(8, 4))\n",
    "\n",
    "ax.plot(df[\"position\"], df[\"error_prob\"])\n",
    "ax.set_xlabel(\"Genomic Position\")\n",
    "ax.set_ylabel(\"Error Probability\")\n",
    "ax.set_title(\"Mean Error Probability Across $Kelch13$\", loc=\"left\")"
   ]
  },
  {
   "cell_type": "markdown",
   "metadata": {},
   "source": [
    "- Looks like more error at one end.. less coverage there perhaps?"
   ]
  },
  {
   "cell_type": "code",
   "execution_count": 31,
   "metadata": {},
   "outputs": [],
   "source": [
    "df[\"coverage\"] = (pd.DataFrame({\"position\": positions, \"error_prob\": error_probs})\n",
    "                  .groupby(\"position\")\n",
    "                  .size()\n",
    "                  .values\n",
    "                 )"
   ]
  },
  {
   "cell_type": "code",
   "execution_count": 32,
   "metadata": {},
   "outputs": [
    {
     "data": {
      "text/html": [
       "<div>\n",
       "<style scoped>\n",
       "    .dataframe tbody tr th:only-of-type {\n",
       "        vertical-align: middle;\n",
       "    }\n",
       "\n",
       "    .dataframe tbody tr th {\n",
       "        vertical-align: top;\n",
       "    }\n",
       "\n",
       "    .dataframe thead th {\n",
       "        text-align: right;\n",
       "    }\n",
       "</style>\n",
       "<table border=\"1\" class=\"dataframe\">\n",
       "  <thead>\n",
       "    <tr style=\"text-align: right;\">\n",
       "      <th></th>\n",
       "      <th>position</th>\n",
       "      <th>error_prob</th>\n",
       "      <th>coverage</th>\n",
       "    </tr>\n",
       "  </thead>\n",
       "  <tbody>\n",
       "    <tr>\n",
       "      <th>0</th>\n",
       "      <td>1724565</td>\n",
       "      <td>0.025119</td>\n",
       "      <td>1</td>\n",
       "    </tr>\n",
       "    <tr>\n",
       "      <th>1</th>\n",
       "      <td>1724566</td>\n",
       "      <td>0.103764</td>\n",
       "      <td>6</td>\n",
       "    </tr>\n",
       "    <tr>\n",
       "      <th>2</th>\n",
       "      <td>1724567</td>\n",
       "      <td>0.071243</td>\n",
       "      <td>10</td>\n",
       "    </tr>\n",
       "    <tr>\n",
       "      <th>3</th>\n",
       "      <td>1724568</td>\n",
       "      <td>0.059930</td>\n",
       "      <td>114</td>\n",
       "    </tr>\n",
       "    <tr>\n",
       "      <th>4</th>\n",
       "      <td>1724569</td>\n",
       "      <td>0.065843</td>\n",
       "      <td>130</td>\n",
       "    </tr>\n",
       "  </tbody>\n",
       "</table>\n",
       "</div>"
      ],
      "text/plain": [
       "   position  error_prob  coverage\n",
       "0   1724565    0.025119         1\n",
       "1   1724566    0.103764         6\n",
       "2   1724567    0.071243        10\n",
       "3   1724568    0.059930       114\n",
       "4   1724569    0.065843       130"
      ]
     },
     "execution_count": 32,
     "metadata": {},
     "output_type": "execute_result"
    }
   ],
   "source": [
    "df.head()"
   ]
  },
  {
   "cell_type": "code",
   "execution_count": 33,
   "metadata": {},
   "outputs": [
    {
     "data": {
      "text/plain": [
       "Text(0,0.5,'Coverage')"
      ]
     },
     "execution_count": 33,
     "metadata": {},
     "output_type": "execute_result"
    },
    {
     "data": {
      "image/png": "[encoded data removed]",
      "text/plain": [
       "<Figure size 576x288 with 2 Axes>"
      ]
     },
     "metadata": {},
     "output_type": "display_data"
    }
   ],
   "source": [
    "fig, ax = plt.subplots(1, 1, figsize=(8, 4))\n",
    "\n",
    "ax.plot(df[\"position\"], df[\"error_prob\"])\n",
    "ax.set_xlabel(\"Genomic Position\")\n",
    "ax.set_ylabel(\"Error Probability\")\n",
    "ax.set_title(\"Mean Error Probability Across $Kelch13$\", loc=\"left\")\n",
    "\n",
    "axm = ax.twinx()\n",
    "axm.fill_between(x=df[\"position\"],\n",
    "                 y1=np.repeat(0, df.shape[0]),\n",
    "                 y2=df[\"coverage\"],\n",
    "                 color='darkgrey', alpha=0.5)\n",
    "axm.set_ylabel(\"Coverage\")"
   ]
  },
  {
   "cell_type": "markdown",
   "metadata": {},
   "source": [
    "- Result seems to be explain by a decline in coverage\n",
    "- Would be interesting to indicate primer positions and gene body"
   ]
  },
  {
   "cell_type": "code",
   "execution_count": null,
   "metadata": {},
   "outputs": [],
   "source": []
  }
 ],
 "metadata": {
  "kernelspec": {
   "display_name": "Python 3",
   "language": "python",
   "name": "python3"
  },
  "language_info": {
   "codemirror_mode": {
    "name": "ipython",
    "version": 3
   },
   "file_extension": ".py",
   "mimetype": "text/x-python",
   "name": "python",
   "nbconvert_exporter": "python",
   "pygments_lexer": "ipython3",
   "version": "3.6.5"
  }
 },
 "nbformat": 4,
 "nbformat_minor": 2
}
